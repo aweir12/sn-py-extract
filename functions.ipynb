{
 "cells": [
  {
   "cell_type": "code",
   "execution_count": null,
   "metadata": {},
   "outputs": [],
   "source": [
    "import pandas as pd\n",
    "import os\n",
    "import urllib.parse as ulp\n",
    "import re\n",
    "import params\n",
    "from sqlalchemy import create_engine\n",
    "import sqlalchemy.types\n",
    "import requests"
   ]
  },
  {
   "cell_type": "code",
   "execution_count": null,
   "metadata": {},
   "outputs": [],
   "source": [
    "# Local Variables\n",
    "fetchSize = 500 # How many records to retrieve at once from the API\n",
    "queryPt1 = 'sys_updated_on>javascript:gs.dateGenerate('\n",
    "lastUpdateDate = \"'2012-01-01','12:00:00'\"\n",
    "queryPt2 = ')^ORDERBYsys_updated_on'\n",
    "os.environ[\"NLS_LANG\"] = \"AMERICAN_AMERICA.AL32UTF8\" # Define characterset, thanks Oracle\n",
    "qStr = {'sysparm_exclude_reference_link' : 'true',\n",
    "        'sysparm_query' : 0,\n",
    "        'sysparm_limit' : fetchSize, \n",
    "        'sysparm_offset': 0}"
   ]
  },
  {
   "cell_type": "code",
   "execution_count": null,
   "metadata": {},
   "outputs": [],
   "source": [
    "# Global Variables\n",
    "baseURL = params.baseURL\n",
    "username = params.username\n",
    "password = params.password\n",
    "snHeaders = params.snHeaders\n",
    "connection = params.dbURL + ulp.urlencode(params.dbParams)\n",
    "engine = create_engine(connection) # Create Database Engine\n"
   ]
  },
  {
   "cell_type": "code",
   "execution_count": null,
   "metadata": {},
   "outputs": [],
   "source": [
    "# Retrieve Date/Time of the Newest Record in the Database for a Table\n",
    "def getLastRefreshDate(dbTableIn):\n",
    "    query = \"SELECT TO_CHAR(MAX(SYS_UPDATED_ON - (4)), '''YYYY-MM-DD'',''HH24:MI:SS''') FROM \" + dbTableIn\n",
    "    try:\n",
    "        lastUpdateDate = \"'\" + engine.execute(query).first()[0].replace(' ',\"','\") + \"'\"\n",
    "    except:\n",
    "        lastUpdateDate = \"'2012-01-01','12:00:00'\"\n",
    "    return lastUpdateDate"
   ]
  },
  {
   "cell_type": "code",
   "execution_count": null,
   "metadata": {},
   "outputs": [],
   "source": [
    "# Build the URL Call for the ServiceNow Table API\n",
    "def buildURL(snTableIn, lastUpdateDateIn, offsetIn=0):\n",
    "    # Setup Incremental Refresh Here\n",
    "    query = queryPt1 + lastUpdateDateIn + queryPt2\n",
    "    qStr['sysparm_query'] = query\n",
    "    qStr['sysparm_offset'] = offsetIn\n",
    "    urlQuery = ulp.urlencode(qStr)\n",
    "    urlCall = baseURL + snTableIn + '?' + urlQuery\n",
    "    return urlCall"
   ]
  },
  {
   "cell_type": "code",
   "execution_count": null,
   "metadata": {},
   "outputs": [],
   "source": [
    "# Determine Column Types for Oracle DB\n",
    "# This could use some work, and some documentation\n",
    "def dfReShape(dfIn):\n",
    "    colNames = list(dfIn.columns)\n",
    "    colTypes = {}\n",
    "    for col in colNames:\n",
    "        if(len(col)) > 30:\n",
    "            colTypes[col] = re.sub(r'[AEIO]', '', col,flags = re.IGNORECASE)\n",
    "    dfIn.rename(index = str, columns = colTypes, inplace = True)\n",
    "    cols = dfIn.columns\n",
    "    for cname in cols:\n",
    "        if dfIn[cname].loc[dfIn[cname] != ''].count() > 0:\n",
    "            try:\n",
    "                dfIn[cname] = dfIn[cname].astype(int)\n",
    "            except:\n",
    "                try:\n",
    "                    dfIn[cname] = pd.to_datetime(dfIn[cname]).dt.tz_localize('UTC').dt.tz_convert('US/Central').dt.tz_localize(None)\n",
    "                except:\n",
    "                    dfIn[cname] = dfIn[cname].astype(object)\n",
    "    colTypes = {'sys_id' : sqlalchemy.types.VARCHAR(32)}\n",
    "    strings = list(dfIn.select_dtypes(include=['object']).columns)\n",
    "    for cname in strings:\n",
    "        clength = dfIn[cname].map(lambda x: len(x)).max() + 10\n",
    "        if clength < 4000:\n",
    "            colTypes[cname] = sqlalchemy.types.VARCHAR(clength)\n",
    "    out = (dfIn, colTypes)\n",
    "    return out"
   ]
  },
  {
   "cell_type": "code",
   "execution_count": null,
   "metadata": {},
   "outputs": [],
   "source": [
    "# Unload the ServiceNow Data & Shape the DF\n",
    "def unloadData(snTableIn, dbTableIn):\n",
    "    check = 0\n",
    "    lastUpdateDate = getLastRefreshDate(dbTableIn)\n",
    "    url = buildURL(snTableIn, lastUpdateDate)\n",
    "    r = requests.get(url, auth=(username, password), headers=snHeaders)\n",
    "    offset = len(r.json()['result'])\n",
    "    df = pd.DataFrame(r.json()['result'])\n",
    "    while offset != check:\n",
    "        check = offset\n",
    "        url = buildURL(snTableIn, lastUpdateDate, offset)\n",
    "        r = requests.get(url, auth=(username, password), headers=snHeaders)\n",
    "        if len(r.json()['result']) > 0:\n",
    "            df = df.append(pd.DataFrame(r.json()['result']))\n",
    "        offset = offset + len(r.json()['result'])\n",
    "    if len(df) > 0:\n",
    "        df.set_index('sys_id', inplace=True)\n",
    "        dfOut = dfReShape(df)\n",
    "    if len(df) < 1:\n",
    "        dfOut = (df, {})\n",
    "    return dfOut"
   ]
  },
  {
   "cell_type": "code",
   "execution_count": null,
   "metadata": {},
   "outputs": [],
   "source": []
  },
  {
   "cell_type": "code",
   "execution_count": null,
   "metadata": {},
   "outputs": [],
   "source": [
    "dev = unloadData('sys_user', 'arw_sys_user')\n",
    "dev[0].to_sql('arw_sys_user',engine,chunksize=1500,if_exists='append', dtype=dev[1])"
   ]
  },
  {
   "cell_type": "code",
   "execution_count": null,
   "metadata": {},
   "outputs": [],
   "source": []
  }
 ],
 "metadata": {
  "kernelspec": {
   "display_name": "Python 3",
   "language": "python",
   "name": "python3"
  },
  "language_info": {
   "codemirror_mode": {
    "name": "ipython",
    "version": 3
   },
   "file_extension": ".py",
   "mimetype": "text/x-python",
   "name": "python",
   "nbconvert_exporter": "python",
   "pygments_lexer": "ipython3",
   "version": "3.6.5"
  }
 },
 "nbformat": 4,
 "nbformat_minor": 2
}
